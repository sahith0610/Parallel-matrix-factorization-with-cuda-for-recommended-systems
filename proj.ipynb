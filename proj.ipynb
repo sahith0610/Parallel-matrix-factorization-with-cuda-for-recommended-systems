{
 "cells": [
  {
   "cell_type": "code",
   "execution_count": 1,
   "id": "3fc8f6ed",
   "metadata": {},
   "outputs": [
    {
     "name": "stdout",
     "output_type": "stream",
     "text": [
      "Loaded 32000204 ratings from 200949 users and 292758 items.\n",
      "Epoch 1/5 RMSE: 1.0452\n",
      "Epoch 2/5 RMSE: 0.9386\n",
      "Epoch 3/5 RMSE: 0.8928\n",
      "Epoch 4/5 RMSE: 0.8629\n",
      "Epoch 5/5 RMSE: 0.8411\n",
      "Training complete.\n"
     ]
    }
   ],
   "source": [
    "\n",
    "\"\"\"\n",
    "Serial GPU matrix factorization using CuPy .\n",
    "After training,enter a user ID to get top-N recommendations.\n",
    "\"\"\"\n",
    "import cupy as cp\n",
    "import pandas as pd\n",
    "\n",
    "ratings_path = r'C:\\Python ML programs\\cu2rec\\Parallel-matrix-factorization-with-cuda-for-recommended-systems\\ratings.csv'\n",
    "factors      = 50\n",
    "lr           = 0.005\n",
    "reg          = 0.02\n",
    "epochs       = 5\n",
    "batch_size   = 4096\n",
    "top_n        = 10\n",
    "\n",
    "# 1) Load data on CPU then send to GPU\n",
    "df      = pd.read_csv(ratings_path, usecols=[\"userId\",\"movieId\",\"rating\"])\n",
    "users   = cp.array(df.userId.values.astype(int))\n",
    "items   = cp.array(df.movieId.values.astype(int))\n",
    "ratings = cp.array(df.rating.values.astype(float))\n",
    "\n",
    "n_users = int(users.max()) + 1\n",
    "n_items = int(items.max()) + 1\n",
    "N       = ratings.size\n",
    "print(f\"Loaded {N} ratings from {n_users} users and {n_items} items.\")\n",
    "\n",
    "# 2) Initialize U, V on GPU\n",
    "cp.random.seed(0)\n",
    "U = cp.random.randn(n_users, factors, dtype=cp.float32) * 0.01\n",
    "V = cp.random.randn(n_items, factors, dtype=cp.float32) * 0.01\n",
    "\n",
    "idx_all = cp.arange(N, dtype=cp.int32)\n",
    "\n",
    "# 3) Training loop\n",
    "for epoch in range(1, epochs+1):\n",
    "    perm = cp.random.permutation(idx_all)\n",
    "    for start in range(0, N, batch_size):\n",
    "        b  = perm[start:start+batch_size]\n",
    "        ub = users[b]; ib = items[b]; rb = ratings[b]\n",
    "        preds = cp.sum(U[ub] * V[ib], axis=1)\n",
    "        errs  = preds - rb\n",
    "        U[ub] -= lr * (errs[:, None] * V[ib] + reg * U[ub])\n",
    "        V[ib] -= lr * (errs[:, None] * U[ub] + reg * V[ib])\n",
    "    mse = cp.float64(0.0)\n",
    "    for start in range(0, N, batch_size):\n",
    "        sl = slice(start, start+batch_size)\n",
    "        chunk = cp.sum((cp.sum(U[users[sl]] * V[items[sl]], axis=1) - ratings[sl])**2)\n",
    "        mse += chunk\n",
    "    rmse = cp.sqrt(mse / N)\n",
    "    print(f\"Epoch {epoch}/{epochs} RMSE: {float(rmse):.4f}\")\n",
    "\n",
    "print(\"Training complete.\")"
   ]
  },
  {
   "cell_type": "code",
   "execution_count": 2,
   "id": "48070477",
   "metadata": {},
   "outputs": [
    {
     "name": "stdout",
     "output_type": "stream",
     "text": [
      "\n",
      "Top 10 recommendations for user 1125:\n",
      "  Item ID 159817, Score 4.5637\n",
      "  Item ID 171011, Score 4.5152\n",
      "  Item ID 170705, Score 4.5139\n",
      "  Item ID 220528, Score 4.4721\n",
      "  Item ID 105250, Score 4.4705\n",
      "  Item ID 858, Score 4.4655\n",
      "  Item ID 1203, Score 4.4259\n",
      "  Item ID 318, Score 4.4241\n",
      "  Item ID 171495, Score 4.4214\n",
      "  Item ID 93040, Score 4.4206\n"
     ]
    }
   ],
   "source": [
    "# 4) Prompt for user ID and recommendation\n",
    "uid_str = input(f\"\\nEnter a user ID (0-{n_users-1}) for recommendations, or blank to exit: \").strip()\n",
    "if uid_str:\n",
    "    try:\n",
    "        uid = int(uid_str)\n",
    "        if 0 <= uid < n_users:\n",
    "            rated = items[users == uid]\n",
    "            scores = V.dot(U[uid])\n",
    "            scores[rated] = -cp.inf\n",
    "            top_items = cp.argsort(scores)[-top_n:][::-1]\n",
    "            print(f\"\\nTop {top_n} recommendations for user {uid}:\")\n",
    "            for item in top_items.get():\n",
    "                print(f\"  Item ID {int(item)}, Score {float(scores[item]):.4f}\")\n",
    "        else:\n",
    "            print(\"User ID out of range.\")\n",
    "    except ValueError:\n",
    "        print(\"Invalid input; please enter an integer.\")\n",
    "else:\n",
    "    print(\"No user ID entered. Exiting.\")"
   ]
  }
 ],
 "metadata": {
  "kernelspec": {
   "display_name": "Python 3",
   "language": "python",
   "name": "python3"
  },
  "language_info": {
   "codemirror_mode": {
    "name": "ipython",
    "version": 3
   },
   "file_extension": ".py",
   "mimetype": "text/x-python",
   "name": "python",
   "nbconvert_exporter": "python",
   "pygments_lexer": "ipython3",
   "version": "3.11.9"
  }
 },
 "nbformat": 4,
 "nbformat_minor": 5
}
